{
 "cells": [
  {
   "cell_type": "markdown",
   "metadata": {
    "slideshow": {
     "slide_type": "slide"
    }
   },
   "source": [
    "# Software Carpentry\n",
    "\n",
    "### EPFL Library, November 2018\n"
   ]
  },
  {
   "cell_type": "markdown",
   "metadata": {
    "slideshow": {
     "slide_type": "slide"
    }
   },
   "source": [
    "## Program\n",
    "\n",
    "|     | 4 afternoons | 4 workshops |\n",
    "| :-- | :----------- | :---------- |\n",
    "| > | `Today` | `Unix Shell` |\n",
    "|  | Thursday 22 | Version Control with Git |\n",
    "|  | Tuesday 27 | Python I |\n",
    "|  | Thursday 29 | More Python |"
   ]
  },
  {
   "cell_type": "markdown",
   "metadata": {
    "collapsed": true,
    "slideshow": {
     "slide_type": "slide"
    }
   },
   "source": [
    "## Why did you decide to attend this workshop?"
   ]
  },
  {
   "cell_type": "markdown",
   "metadata": {
    "slideshow": {
     "slide_type": "slide"
    }
   },
   "source": [
    "## Today's program\n",
    "\n",
    "|     |  activity |\n",
    "| :-- | :-------- |\n",
    "| 13:00 | Introducing the Unix Shell |\n",
    "| 13:15 | Navigating Files and Directories |\n",
    "| 14:00 | Working with Files and Directories |\n",
    "| 14:50 | **break** |\n",
    "| 15:20 | Loops |\n",
    "| 16:10 | Shell Scripts |\n",
    "| 16:55 | Finding Things |\n",
    "| 17:30 | Wrap-up / **END** |"
   ]
  },
  {
   "cell_type": "markdown",
   "metadata": {
    "slideshow": {
     "slide_type": "slide"
    }
   },
   "source": [
    "## How we'll work\n",
    "\n",
    "Live coding \n",
    "\n",
    "Sticky notes : use a red sticky note to say you are stuck, put the green one when all is good\n",
    "\n",
    "Instructors : Raphaël and Mathilde\n",
    "\n",
    "Helpers : Antoine, Ludovic, Raphaël and Mathilde\n",
    "\n",
    "Slides for exercices : Find the link to the slides on go.epfl.ch/swc-pad"
   ]
  },
  {
   "cell_type": "markdown",
   "metadata": {
    "slideshow": {
     "slide_type": "slide"
    }
   },
   "source": [
    "## Introducing the Shell\n",
    "### Key points about the Shell \n",
    "\n",
    "\n",
    "- A shell is a program whose primary purpose is to read commands and run other programs.\n",
    "- The shell’s main advantages are its high action-to-keystroke ratio, its support for automating repetitive tasks, and its capacity to access networked machines.\n",
    "- The shell’s main disadvantages are its primarily textual nature and how cryptic its commands and operation can be.\n"
   ]
  },
  {
   "cell_type": "markdown",
   "metadata": {
    "slideshow": {
     "slide_type": "slide"
    }
   },
   "source": [
    "## Navigating Files and Directories"
   ]
  },
  {
   "cell_type": "markdown",
   "metadata": {
    "slideshow": {
     "slide_type": "slide"
    }
   },
   "source": [
    "### [Exercise] Exploring more `rm` flags\n",
    "\n",
    "What does the command ls do when used with the `-l` and `-h` flags?\n"
   ]
  },
  {
   "cell_type": "markdown",
   "metadata": {},
   "source": [
    "### [Exercise] Listing Recursively and By Time\n",
    "\n",
    "The command `ls -R` lists the contents of directories recursively, i.e., lists their sub-directories, sub-sub-directories, and so on at each level. The command `ls -t` lists things by time of last change, with most recently changed files or directories first. In what order does `ls -R -t` display things? "
   ]
  },
  {
   "cell_type": "markdown",
   "metadata": {
    "slideshow": {
     "slide_type": "slide"
    }
   },
   "source": [
    "### [Exercise] Absolute vs Relative Paths\n",
    "\n",
    "Starting from /Users/amanda/data/, which of the following commands could Amanda use to navigate to her home directory, which is /Users/amanda?\n",
    "\n",
    "   1. `cd .`\n",
    "   2. `cd /`\n",
    "   3. `cd /home/amanda`\n",
    "   4. `cd ../..`\n",
    "   5. `cd ~`\n",
    "   6. `cd home`\n",
    "   7. `cd ~/data/..`\n",
    "   8. `cd`\n",
    "   9. `cd ..`"
   ]
  },
  {
   "cell_type": "markdown",
   "metadata": {
    "slideshow": {
     "slide_type": "slide"
    }
   },
   "source": [
    "### [Exercise] Relative Path Resolution\n",
    "\n",
    "Using the filesystem diagram below, if pwd displays /Users/thing, what will ls -F ../backup display?\n",
    "\n",
    "   1. `../backup: No such file or directory`\n",
    "   2. `2012-12-01 2013-01-08 2013-01-27`\n",
    "   3. `2012-12-01/ 2013-01-08/ 2013-01-27/`\n",
    "   4. `original/ pnas_final/ pnas_sub/`\n",
    "   \n",
    "![directory-structure](img/filesystem-challenge.svg)\n",
    "\n"
   ]
  },
  {
   "cell_type": "markdown",
   "metadata": {
    "slideshow": {
     "slide_type": "slide"
    }
   },
   "source": [
    "### [Exercise ] `ls` Reading comprehension \n",
    "\n",
    "![directory-structure](img/filesystem-challenge.svg)\n",
    "\n",
    "Assuming a directory structure as in the above Figure (File System for Challenge Questions), if `pwd` displays `/Users/backup`, and `-r` tells ls to display things in reverse order, what command will display:\n",
    "\n",
    "`pnas_sub/ pnas_final/ original/`\n",
    "\n",
    "1. `ls pwd` \n",
    "2. `ls -r -F`\n",
    "3. `ls -r -F /Users/backup`\n",
    "4. Either #2 or #3 above, but not #1."
   ]
  },
  {
   "cell_type": "markdown",
   "metadata": {
    "slideshow": {
     "slide_type": "notes"
    }
   },
   "source": [
    "### Key Points about Navigating Files and Directories\n",
    "- The file system is responsible for managing information on the disk.\n",
    "- Information is stored in files, which are stored in directories (folders).\n",
    "- Directories can also store other directories, which forms a directory tree.\n",
    "- `cd path` changes the current working directory.\n",
    "- `ls path` prints a listing of a specific file or directory; `ls` on its own lists the current working directory.\n",
    "- `pwd` prints the user’s current working directory.\n",
    "- `/` on its own is the root directory of the whole file system."
   ]
  },
  {
   "cell_type": "markdown",
   "metadata": {
    "slideshow": {
     "slide_type": "notes"
    }
   },
   "source": [
    "### More key Points about Navigating Files and Directories\n",
    "- A relative path specifies a location starting from the current location.\n",
    "- An absolute path specifies a location from the root of the file system.\n",
    "- Directory names in a path are separated with `/`  on Unix, but `\\`on Windows.\n",
    "- `..` means ‘the directory above the current one’; `.` on its own means ‘the current directory’.\n",
    "- Most files’ names are `something.extension`. The extension isn’t required, and doesn’t guarantee anything, but is normally used to indicate the type of data in the file.\n"
   ]
  },
  {
   "cell_type": "markdown",
   "metadata": {
    "slideshow": {
     "slide_type": "slide"
    }
   },
   "source": [
    "## Working with Files and Directories"
   ]
  },
  {
   "cell_type": "markdown",
   "metadata": {
    "slideshow": {
     "slide_type": "slide"
    }
   },
   "source": [
    "### [Exercise] Creating Files a Different Way\n",
    "\n",
    "We have seen how to create text files using the `nano` editor. Now, try the following command in your home directory:\n",
    "\n",
    "```\n",
    "$ cd                  # go to your home directory\n",
    "$ touch my_file.txt\n",
    "```\n",
    "\n",
    "\n",
    "\n",
    "1. What did the touch command do? When you look at your home directory using the GUI file explorer, does the file show up?\n",
    "2. Use `ls -l` to inspect the files. How large is `my_file.txt`?\n",
    "3. When might you want to create a file this way?"
   ]
  },
  {
   "cell_type": "markdown",
   "metadata": {
    "slideshow": {
     "slide_type": "slide"
    }
   },
   "source": [
    "### [Exercise] Using `rm` Safely\n",
    "\n",
    "What happens when we type `rm -i thesis/quotations.txt`? Why would we want this protection when using `rm`?"
   ]
  },
  {
   "cell_type": "markdown",
   "metadata": {
    "slideshow": {
     "slide_type": "slide"
    }
   },
   "source": [
    "### [Exercise] Moving to the Current Folder\n",
    "\n",
    "After running the following commands, Jamie realizes that she put the files `sucrose.dat` and `maltose.dat` into the wrong folder:\n",
    "\n",
    "```\n",
    "$ ls -F\n",
    "```\n",
    "\n",
    "> analyzed/ raw/\n",
    "\n",
    "```\n",
    "$ ls -F analyzed\n",
    "```\n",
    "\n",
    "> fructose.dat glucose.dat maltose.dat sucrose.dat\n",
    "\n",
    "```\n",
    "$ cd raw/\n",
    "```\n",
    "\n",
    "Fill in the blanks to move these files to the current folder (i.e., the one she is currently in):\n",
    "\n",
    "```\n",
    "$ mv ___/sucrose.dat  ___/maltose.dat ___\n",
    "```"
   ]
  },
  {
   "cell_type": "markdown",
   "metadata": {
    "slideshow": {
     "slide_type": "slide"
    }
   },
   "source": [
    "### [Exercise] Renaming Files\n",
    "\n",
    "Suppose that you created a `.txt` file in your current directory to contain a list of the statistical tests you will need to do to analyze your data, and named it: `statstics.txt`\n",
    "\n",
    "After creating and saving this file you realize you misspelled the filename! You want to correct the mistake, which of the following commands could you use to do so?\n",
    "\n",
    "1. `cp statstics.txt statistics.txt`\n",
    "2. `mv statstics.txt statistics.txt`\n",
    "3. `mv statstics.txt .`\n",
    "4. `cp statstics.txt .`\n"
   ]
  },
  {
   "cell_type": "markdown",
   "metadata": {
    "slideshow": {
     "slide_type": "slide"
    }
   },
   "source": [
    "### [Exercise] Moving and Copying\n",
    "\n",
    "What is the output of the closing `ls` command in the sequence shown below?\n",
    "\n",
    "```\n",
    "$ pwd\n",
    "```\n",
    "\n",
    "> /Users/jamie/data\n",
    "\n",
    "```\n",
    "$ ls\n",
    "```\n",
    "> proteins.dat\n",
    "\n",
    "```\n",
    "$ mkdir recombine\n",
    "$ mv proteins.dat recombine/\n",
    "$ cp recombine/proteins.dat ../proteins-saved.dat\n",
    "$ ls\n",
    "```\n",
    "\n",
    "1. `proteins-saved.dat recombine`\n",
    "2. `recombine`\n",
    "3. `proteins.dat recombine`\n",
    "4. `proteins-saved.dat`\n"
   ]
  },
  {
   "cell_type": "markdown",
   "metadata": {
    "slideshow": {
     "slide_type": "slide"
    }
   },
   "source": [
    "### Additional exercises\n",
    "\n",
    "If you were quick, check out these exercises to dig a little more into details."
   ]
  },
  {
   "cell_type": "markdown",
   "metadata": {
    "slideshow": {
     "slide_type": "subslide"
    }
   },
   "source": [
    "### [Exercise] Copy with Multiple Filenames\n",
    "\n",
    "For this exercise, you can test the commands in the `data-shell/data` directory.\n",
    "\n",
    "In the example below, what does `cp` do when given several filenames and a directory name?\n",
    "\n",
    "```\n",
    "$ mkdir backup\n",
    "$ cp amino-acids.txt animals.txt backup/\n",
    "```\n",
    "\n",
    "In the example below, what does `cp` do when given three or more file names?\n",
    "\n",
    "```\n",
    "$ ls -F\n",
    "```\n",
    "\n",
    "> amino-acids.txt  animals.txt  backup/  elements/  morse.txt  pdb/  planets.txt  salmon.txt  sunspot.txt\n",
    " \n",
    "```\n",
    "$ cp amino-acids.txt animals.txt morse.txt\n",
    "```"
   ]
  },
  {
   "cell_type": "markdown",
   "metadata": {
    "slideshow": {
     "slide_type": "subslide"
    }
   },
   "source": [
    "### [Exercise] Using Wildcards\n",
    "\n",
    "When run in the `molecules` directory, which `ls` command(s) will produce this output?\n",
    "\n",
    "`ethane.pdb methane.pdb`\n",
    "\n",
    "1. `ls *t*ane.pdb`\n",
    "2. `ls *t?ne.*`\n",
    "3. `ls *t??ne.pdb`\n",
    "4. `ls ethane.*`"
   ]
  },
  {
   "cell_type": "markdown",
   "metadata": {
    "slideshow": {
     "slide_type": "subslide"
    }
   },
   "source": [
    "### [Exercise] More on Wildcards\n",
    "\n",
    "Sam has a directory containing calibration data, datasets, and descriptions of the datasets:\n",
    "\n",
    "```\n",
    "2015-10-23-calibration.txt\n",
    "2015-10-23-dataset1.txt\n",
    "2015-10-23-dataset2.txt\n",
    "2015-10-23-dataset_overview.txt\n",
    "2015-10-26-calibration.txt\n",
    "2015-10-26-dataset1.txt\n",
    "2015-10-26-dataset2.txt\n",
    "2015-10-26-dataset_overview.txt\n",
    "2015-11-23-calibration.txt\n",
    "2015-11-23-dataset1.txt\n",
    "2015-11-23-dataset2.txt\n",
    "2015-11-23-dataset_overview.txt\n",
    "```\n",
    "\n",
    "Before heading off to another field trip, she wants to back up her data and send some datasets to her colleague Bob. Sam uses the following commands to get the job done:\n",
    "\n",
    "```\n",
    "$ cp *dataset* /backup/datasets\n",
    "$ cp ____calibration____ /backup/calibration\n",
    "$ cp 2015-____-____ ~/send_to_bob/all_november_files/\n",
    "$ cp ____ ~/send_to_bob/all_datasets_created_on_a_23rd/\n",
    "```\n",
    "\n",
    "Help Sam by filling in the blanks."
   ]
  },
  {
   "cell_type": "markdown",
   "metadata": {
    "slideshow": {
     "slide_type": "subslide"
    }
   },
   "source": [
    "### [Exercise] Organizing Directories and Files\n",
    "\n",
    "Jamie is working on a project and she sees that her files aren’t very well organized:\n",
    "\n",
    "```\n",
    "$ ls -F\n",
    "```\n",
    "\n",
    "> analyzed/  fructose.dat    raw/   sucrose.dat\n",
    "\n",
    "The `fructose.dat` and sucrose.dat` files contain output from her data analysis. What command(s) covered in this lesson does she need to run so that the commands below will produce the output shown?\n",
    "\n",
    "```\n",
    "$ ls -F\n",
    "```\n",
    "\n",
    "> analyzed/   raw/\n",
    "\n",
    "```\n",
    "$ ls analyzed\n",
    "```\n",
    "\n",
    "> fructose.dat    sucrose.dat\n",
    "\n",
    "\n"
   ]
  },
  {
   "cell_type": "markdown",
   "metadata": {
    "slideshow": {
     "slide_type": "subslide"
    }
   },
   "source": [
    "### [Exercise] Copy a folder structure but not the files\n",
    "\n",
    "You’re starting a new experiment, and would like to duplicate the file structure from your previous experiment without the data files so you can add new data.\n",
    "\n",
    "Assume that the file structure is in a folder called ‘2016-05-18-data’, which contains a `data` folder that in turn contains folders named `raw` and `processed` that contain data files. The goal is to copy the file structure of the `2016-05-18-data` folder into a folder called `2016-05-20-data` and remove the data files from the directory you just created.\n",
    "\n",
    "Which of the following set of commands would achieve this objective? What would the other commands do?\n",
    "\n",
    "```\n",
    "$ cp -r 2016-05-18-data/ 2016-05-20-data/\n",
    "$ rm 2016-05-20-data/raw/*\n",
    "$ rm 2016-05-20-data/processed/*\n",
    "```\n",
    "\n",
    "```\n",
    "$ rm 2016-05-20-data/raw/*\n",
    "$ rm 2016-05-20-data/processed/*\n",
    "$ cp -r 2016-05-18-data/ 2016-5-20-data/\n",
    "```\n",
    "\n",
    "```\n",
    "$ cp -r 2016-05-18-data/ 2016-05-20-data/\n",
    "$ rm -r -i 2016-05-20-data/\n",
    "```"
   ]
  },
  {
   "cell_type": "markdown",
   "metadata": {
    "slideshow": {
     "slide_type": "notes"
    }
   },
   "source": [
    "### Key Points about Working with Files and Directories\n",
    "\n",
    "`cp old new` copies a file.   \n",
    "`mkdir path` creates a new directory.   \n",
    "`mv old new` moves (renames) a file or directory.   \n",
    "`rm path` removes (deletes) a file.   \n",
    "`*` matches zero or more characters in a filename, so `*.txt` matches all files ending in `.txt`.   \n",
    "`?` matches any single character in a filename, so `?.txt` matches `a.txt` but not `any.txt`.   \n",
    "Use of the Control key may be described in many ways, including `Ctrl-X`, `Control-X`, and `^X`.   \n",
    "The shell does not have a trash bin: once something is deleted, it’s really gone.   \n",
    "Depending on the type of work you do, you may need a more powerful text editor than Nano.   \n"
   ]
  },
  {
   "cell_type": "markdown",
   "metadata": {
    "slideshow": {
     "slide_type": "notes"
    }
   },
   "source": [
    "## Pipes and Filters\n",
    "\n",
    "### Key Points about Pipes and Filters\n",
    "`cat` displays the contents of its inputs.\n",
    "\n",
    "`head` displays the first 10 lines of its input.\n",
    "\n",
    "`tail` displays the last 10 lines of its input.\n",
    "\n",
    "`sort` sorts its inputs.\n",
    "\n",
    "`wc` counts lines, words, and characters in its inputs.\n",
    "\n",
    "`command > file` redirects a command’s output to a file.\n",
    "\n",
    "`first | second` is a pipeline: the output of the first command is used as the input to the second.\n",
    "\n",
    "[More information on this topic](https://swcarpentry.github.io/shell-novice/04-pipefilter/index.html) on the Software Carpentry website"
   ]
  },
  {
   "cell_type": "markdown",
   "metadata": {
    "slideshow": {
     "slide_type": "slide"
    }
   },
   "source": [
    "## Loops"
   ]
  },
  {
   "cell_type": "markdown",
   "metadata": {
    "slideshow": {
     "slide_type": "slide"
    }
   },
   "source": [
    "### [Exercise] Variables in Loops\n",
    "\n",
    "This exercise refers to the `data-shell/molecules` directory. `ls` gives the following output:\n",
    "\n",
    "> cubane.pdb  ethane.pdb  methane.pdb  octane.pdb  pentane.pdb  propane.pdb\n",
    "\n",
    "What is the output of the following code?\n",
    "\n",
    "```\n",
    "$ for datafile in *.pdb\n",
    "> do\n",
    ">    ls *.pdb\n",
    "> done\n",
    "```\n",
    "\n",
    "Now, what is the output of the following code?\n",
    "\n",
    "```\n",
    "$ for datafile in *.pdb\n",
    "> do\n",
    ">\tls $datafile\n",
    "> done\n",
    "```\n",
    "\n",
    "Why do these two loops give different outputs?"
   ]
  },
  {
   "cell_type": "markdown",
   "metadata": {
    "slideshow": {
     "slide_type": "slide"
    }
   },
   "source": [
    "### [Exercise] Limiting Sets of Files\n",
    "\n",
    "What would be the output of running the following loop in the `data-shell/molecules` directory?\n",
    "\n",
    "```\n",
    "$ for filename in c*\n",
    "> do\n",
    ">    ls $filename \n",
    "> done\n",
    "```\n",
    "\n",
    "1. No files are listed.\n",
    "2. All files are listed.\n",
    "3. Only `cubane.pdb`, `octane.pdb` and `pentane.pdb` are listed.\n",
    "4. Only `cubane.pdb` is listed.\n"
   ]
  },
  {
   "cell_type": "markdown",
   "metadata": {
    "slideshow": {
     "slide_type": "slide"
    }
   },
   "source": [
    "### [Exercise] Limiting Sets of Files (part 2)\n",
    "\n",
    "How would the output differ from using this command instead?\n",
    "\n",
    "```\n",
    "$ for filename in *c*\n",
    "> do\n",
    ">    ls $filename \n",
    "> done\n",
    "```\n",
    "\n",
    "1. The same files would be listed.\n",
    "2. All the files are listed this time.\n",
    "3. No files are listed this time.\n",
    "4. The files `cubane.pdb` and `octane.pdb` will be listed.\n",
    "5. Only the file `octane.pdb` will be listed.\n"
   ]
  },
  {
   "cell_type": "markdown",
   "metadata": {
    "slideshow": {
     "slide_type": "slide"
    }
   },
   "source": [
    "### [Exercise] Saving to a File in a Loop - Part One\n",
    "\n",
    "In the `data-shell/molecules` directory, what is the effect of this loop?\n",
    "\n",
    "```\n",
    "$ for alkanes in *.pdb\n",
    "> do\n",
    ">     echo $alkanes\n",
    ">     cat $alkanes > alkanes.pdb\n",
    "> done\n",
    "```\n",
    "\n",
    "1. Prints `cubane.pdb`, `ethane.pdb`, `methane.pdb`, `octane.pdb`, `pentane.pdb` and `propane.pdb`, and the text from `propane.pdb` will be saved to a file called `alkanes.pdb`.\n",
    "2. Prints `cubane.pdb`, `ethane.pdb`, and `methane.pdb`, and the text from all three files would be concatenated and saved to a file called `alkanes.pdb`.\n",
    "3. Prints `cubane.pdb`, `ethane.pdb`, `methane.pdb`, `octane.pdb`, and `pentane.pdb`, and the text from `propane.pdb` will be saved to a file called `alkanes.pdb`.\n",
    "4. None of the above.\n"
   ]
  },
  {
   "cell_type": "markdown",
   "metadata": {
    "slideshow": {
     "slide_type": "slide"
    }
   },
   "source": [
    "### [Exercise] Saving to a File in a Loop - Part Two\n",
    "\n",
    "Also in the `data-shell/molecules` directory, what would be the output of the following loop?\n",
    "\n",
    "```\n",
    "$ for datafile in *.pdb\n",
    "> do\n",
    ">     cat $datafile >> all.pdb\n",
    "> done\n",
    "```\n",
    "\n",
    "1. All of the text from `cubane.pdb`, `ethane.pdb`, `methane.pdb`, `octane.pdb`, and `pentane.pdb` would be concatenated and saved to a file called `all.pdb`.\n",
    "2. The text from `ethane.pdb` will be saved to a file called `all.pdb`.\n",
    "3. All of the text from `cubane.pdb`, `ethane.pdb`, `methane.pdb`, `octane.pdb`, `pentane.pdb` and `propane.pdb` would be concatenated and saved to a file called `all.pdb`.\n",
    "4. All of the text from `cubane.pdb`, `ethane.pdb`, `methane.pdb`, `octane.pdb`, `pentane.pdb` and `propane.pdb` would be printed to the screen and saved to a file called `all.pdb`.\n"
   ]
  },
  {
   "cell_type": "markdown",
   "metadata": {
    "slideshow": {
     "slide_type": "slide"
    }
   },
   "source": [
    "### Additional exercises\n",
    "\n",
    "If you were quick, check out these exercises to dig a little more into details."
   ]
  },
  {
   "cell_type": "markdown",
   "metadata": {
    "slideshow": {
     "slide_type": "subslide"
    }
   },
   "source": [
    "### [Exercise] Doing a Dry Run\n",
    "\n",
    "A loop is a way to do many things at once — or to make many mistakes at once if it does the wrong thing. One way to check what a loop would do is to `echo` the commands it would run instead of actually running them.\n",
    "\n",
    "Suppose we want to preview the commands the following loop will execute without actually running those commands:\n",
    "\n",
    "```\n",
    "$ for file in *.pdb\n",
    "> do\n",
    ">   analyze $file > analyzed-$file\n",
    "> done\n",
    "```\n",
    "\n",
    "What is the difference between the two loops below, and which one would we want to run?\n",
    "\n",
    "```\n",
    "# Version 1\n",
    "$ for file in *.pdb\n",
    "> do\n",
    ">   echo analyze $file > analyzed-$file\n",
    "> done\n",
    "```\n",
    "\n",
    "```\n",
    "# Version 2\n",
    "$ for file in *.pdb\n",
    "> do\n",
    ">   echo \"analyze $file > analyzed-$file\"\n",
    "> done\n",
    "```\n"
   ]
  },
  {
   "cell_type": "markdown",
   "metadata": {
    "slideshow": {
     "slide_type": "subslide"
    }
   },
   "source": [
    "### [Exercise] Nested Loops\n",
    "\n",
    "Suppose we want to set up up a directory structure to organize some experiments measuring reaction rate constants with different compounds *and* different temperatures. What would be the result of the following code:\n",
    "\n",
    "```\n",
    "$ for species in cubane ethane methane\n",
    "> do\n",
    ">     for temperature in 25 30 37 40\n",
    ">     do\n",
    ">         mkdir $species-$temperature\n",
    ">     done\n",
    "> done\n",
    "```\n"
   ]
  },
  {
   "cell_type": "markdown",
   "metadata": {
    "slideshow": {
     "slide_type": "notes"
    }
   },
   "source": [
    "### Key Points for Loops \n",
    "\n",
    "* A `for` loop repeats commands once for every thing in a list.\n",
    "* Every `for` loop needs a variable to refer to the thing it is currently operating on.\n",
    "* Use `$name` to expand a variable (i.e., get its value). `${name}` can also be used.\n",
    "* Do not use spaces, quotes, or wildcard characters such as ‘\\*’ or ‘?’ in filenames, as it complicates variable expansion.\n",
    "* Give files consistent names that are easy to match with wildcard patterns to make it easy to select them for looping.\n",
    "* Use the up-arrow key to scroll up through previous commands to edit and repeat them.\n",
    "* Use `Ctrl-R` to search through the previously entered commands.\n",
    "* Use `history` to display recent commands, and `!number` to repeat a command by number.\n"
   ]
  },
  {
   "cell_type": "markdown",
   "metadata": {
    "slideshow": {
     "slide_type": "slide"
    }
   },
   "source": [
    "## Shell Scripts"
   ]
  },
  {
   "cell_type": "markdown",
   "metadata": {
    "slideshow": {
     "slide_type": "slide"
    }
   },
   "source": [
    "### [Exercise] List Unique Species\n",
    "\n",
    "Leah has several hundred data files, each of which is formatted like this:\n",
    "```\n",
    "2013-11-05,deer,5\n",
    "2013-11-05,rabbit,22\n",
    "2013-11-05,raccoon,7\n",
    "2013-11-06,rabbit,19\n",
    "2013-11-06,deer,2\n",
    "2013-11-06,fox,1\n",
    "2013-11-07,rabbit,18\n",
    "2013-11-07,bear,1\n",
    "```\n",
    "An example of this type of file is given in `data-shell/data/animal-counts/animals.txt`.\n",
    "\n",
    "Write a shell script called `species.sh` that takes any number of filenames as command-line arguments, and uses `cut`, `sort`, and `uniq` to print a list of the unique species appearing in each of those files separately.\n",
    "\n"
   ]
  },
  {
   "cell_type": "markdown",
   "metadata": {
    "slideshow": {
     "slide_type": "slide"
    }
   },
   "source": [
    "### [Exercise] Why Record Commands in the History Before Running Them?\n",
    "\n",
    "If you run the command:\n",
    "\n",
    "```\n",
    "$ history | tail -n 5 > recent.sh\n",
    "```\n",
    "\n",
    "the last command in the file is the `history` command itself, i.e., the shell has added `history` to the command log before actually running it. In fact, the shell always adds commands to the log before running them. Why do you think it does this?\n",
    "\n"
   ]
  },
  {
   "cell_type": "markdown",
   "metadata": {
    "slideshow": {
     "slide_type": "slide"
    }
   },
   "source": [
    "### [Exercise] Variables in Shell Scripts\n",
    "\n",
    "In the `molecules` directory, imagine you have a shell script called `script.sh` containing the following commands:\n",
    "\n",
    "```\n",
    "head -n $2 $1\n",
    "tail -n $3 $1\n",
    "```\n",
    "\n",
    "While you are in the `molecules` directory, you type the following command:\n",
    "`bash script.sh '*.pdb' 1 1`\n",
    "\n",
    "Which of the following outputs would you expect to see?\n",
    "\n",
    "1. All of the lines between the first and the last lines of each file ending in `.pdb` in the `molecules` directory\n",
    "2. The first and the last line of each file ending in `.pdb` in the `molecules directory\n",
    "3. The first and the last line of each file in the `molecules` directory\n",
    "4. An error because of the quotes around `*.pdb`\n",
    "\n"
   ]
  },
  {
   "cell_type": "markdown",
   "metadata": {
    "slideshow": {
     "slide_type": "slide"
    }
   },
   "source": [
    "### [Exercise] Find the Longest File With a Given Extension\n",
    "\n",
    "Write a shell script called `longest.sh` that takes the name of a directory and a filename extension as its arguments, and prints out the name of the file with the most lines in that directory with that extension. For example:\n",
    "\n",
    "`$ bash longest.sh /tmp/data pdb`\n",
    "\n",
    "\n",
    "would print the name of the `.pdb` file in `/tmp/data` that has the most lines.\n"
   ]
  },
  {
   "cell_type": "markdown",
   "metadata": {
    "slideshow": {
     "slide_type": "slide"
    }
   },
   "source": [
    "### Additional exercises\n",
    "\n",
    "If you were quick, check out these exercises to dig a little more into details."
   ]
  },
  {
   "cell_type": "markdown",
   "metadata": {
    "slideshow": {
     "slide_type": "subslide"
    }
   },
   "source": [
    "### [Exercise] Script Reading Comprehension\n",
    "\n",
    "For this question, consider the `data-shell/molecules` directory once again. This contains a number of `.pdb` files in addition to any other files you may have created. Explain what a script called `example.sh` would do when run as `bash example.sh *.pdb` if it contained the following lines:\n",
    "```\n",
    "\n",
    "# Script 1\n",
    "echo *.*\n",
    "\n",
    "# Script 2\n",
    "for filename in $1 $2 $3\n",
    "do\n",
    "    cat $filename\n",
    "done\n",
    "\n",
    "# Script 3\n",
    "echo $@.pdb\n",
    "\n"
   ]
  },
  {
   "cell_type": "markdown",
   "metadata": {
    "slideshow": {
     "slide_type": "subslide"
    }
   },
   "source": [
    "### [Exercise] Debugging Scripts\n",
    "\n",
    "Suppose you have saved the following script in a file called do-errors.sh in Nelle’s north-pacific-gyre/2012-07-03 directory:\n",
    "\n",
    "```\n",
    "# Calculate stats for data files.\n",
    "for datafile in \"$@\"\n",
    "do\n",
    "    echo $datfile\n",
    "    bash goostats $datafile stats-$datafile\n",
    "done\n",
    "```\n",
    "\n",
    "When you run it:\n",
    "\n",
    "`$ bash do-errors.sh NENE*[AB].txt`\n",
    "\n",
    "\n",
    "the output is blank. To figure out why, re-run the script using the -x option:\n",
    "\n",
    "`bash -x do-errors.sh NENE*[AB].txt`\n",
    "\n",
    "What is the output showing you? Which line is responsible for the error?\n"
   ]
  },
  {
   "cell_type": "markdown",
   "metadata": {
    "slideshow": {
     "slide_type": "slide"
    }
   },
   "source": [
    "## Finding Things"
   ]
  },
  {
   "cell_type": "markdown",
   "metadata": {
    "slideshow": {
     "slide_type": "slide"
    }
   },
   "source": [
    "### [Exercise] Using `grep`\n",
    "\n",
    "Which command would result in the following output:\n",
    "\n",
    "```\n",
    "and the presence of absence:\n",
    "```\n",
    "\n",
    "1. `grep \"of\" haiku.txt`\n",
    "2. `grep -E \"of\" haiku.txt`\n",
    "3. `grep -w \"of\" haiku.txt`\n",
    "4. `grep -i \"of\" haiku.txt`\n"
   ]
  },
  {
   "cell_type": "markdown",
   "metadata": {
    "slideshow": {
     "slide_type": "slide"
    }
   },
   "source": [
    "### [Exercise] Tracking a Species\n",
    "\n",
    "Leah has several hundred data files saved in one directory, each of which is formatted like this:\n",
    "\n",
    "```\n",
    "2013-11-05,deer,5\n",
    "2013-11-05,rabbit,22\n",
    "2013-11-05,raccoon,7\n",
    "2013-11-06,rabbit,19\n",
    "2013-11-06,deer,2\n",
    "```\n",
    "\n",
    "She wants to write a shell script that takes a species as the first command-line argument and a directory as the second argument. The script should return one file called `species.txt` containing a list of dates and the number of that species seen on each date. For example using the data shown above, `rabbit.txt` would contain:\n",
    "\n",
    "```\n",
    "2013-11-05,22\n",
    "2013-11-06,19\n",
    "```\n",
    "\n",
    "Put these commands and pipes in the right order to achieve this:\n",
    "\n",
    "```\n",
    "cut -d : -f 2  \n",
    ">  \n",
    "|  \n",
    "grep -w $1 -r $2  \n",
    "|  \n",
    "$1.txt  \n",
    "cut -d , -f 1,3 \n",
    "```\n",
    "\n",
    "Hint: use `man grep` to look for how to grep text recursively in a directory and `man cut` to select more than one field in a line.\n",
    "\n",
    "An example of such a file is provided in `data-shell/data/animal-counts/animals.txt`."
   ]
  },
  {
   "cell_type": "markdown",
   "metadata": {
    "slideshow": {
     "slide_type": "slide"
    }
   },
   "source": [
    "### [Exercise] Little Women\n",
    "\n",
    "You and your friend, having just finished reading *Little Women* by Louisa May Alcott, are in an argument. Of the four sisters in the book, Jo, Meg, Beth, and Amy, your friend thinks that Jo was the most mentioned. You, however, are certain it was Amy. Luckily, you have a file `LittleWomen.txt` containing the full text of the novel (`data-shell/writing/data/LittleWomen.txt`). Using a `for` loop, how would you tabulate the number of times each of the four sisters is mentioned?\n",
    "\n",
    "Hint: one solution might employ the commands `grep` and `wc` and a `|`, while another might utilize `grep` options. There is often more than one way to solve a programming task, so a particular solution is usually chosen based on a combination of yielding the correct result, elegance, readability, and speed."
   ]
  },
  {
   "cell_type": "markdown",
   "metadata": {
    "slideshow": {
     "slide_type": "slide"
    }
   },
   "source": [
    "### Additional exercises\n",
    "\n",
    "If you were quick, check out these exercises to dig a little more into details."
   ]
  },
  {
   "cell_type": "markdown",
   "metadata": {
    "slideshow": {
     "slide_type": "subslide"
    }
   },
   "source": [
    "### [Exercise] Matching and Subtracting\n",
    "\n",
    "The `-v` flag to `grep` inverts pattern matching, so that only lines which do not match the pattern are printed. Given that, which of the following commands will find all files in `/data` whose names end in `s.txt` (e.g., `animals.txt` or `planets.txt`), but do not contain the word `net`? Once you have thought about your answer, you can test the commands in the `data-shell` directory.\n",
    "\n",
    "1. `find data -name '*s.txt' | grep -v net`\n",
    "2. `find data -name *s.txt | grep -v net`\n",
    "3. `grep -v \"temp\" $(find data -name '*s.txt')`\n",
    "4. None of the above.\n"
   ]
  },
  {
   "cell_type": "markdown",
   "metadata": {
    "slideshow": {
     "slide_type": "subslide"
    }
   },
   "source": [
    "### [Exercise] `find` Pipeline Reading Comprehension\n",
    "\n",
    "Write a short explanatory comment for the following shell script:\n",
    "\n",
    "```\n",
    "wc -l $(find . -name '*.dat') | sort -n\n",
    "```\n"
   ]
  },
  {
   "cell_type": "markdown",
   "metadata": {
    "slideshow": {
     "slide_type": "subslide"
    }
   },
   "source": [
    "### [Exercise] Finding Files With Different Properties\n",
    "\n",
    "The `find` command can be given several other criteria known as “tests” to locate files with specific attributes, such as creation time, size, permissions, or ownership. Use `man find` to explore these, and then write a single command to find all files in or below the current directory that were modified by the user `ahmed` in the last 24 hours.\n",
    "\n",
    "Hint 1: you will need to use three tests: `-type`, `-mtime`, and `-user`.\n",
    "\n",
    "Hint 2: The value for `-mtime` will need to be negative—why?"
   ]
  },
  {
   "cell_type": "markdown",
   "metadata": {
    "slideshow": {
     "slide_type": "notes"
    }
   },
   "source": [
    "### Key Points for Finding Things\n",
    "\n",
    "* `find` finds files with specific properties that match patterns.\n",
    "* `grep` selects lines in files that match patterns.\n",
    "* `--help` is a flag supported by many bash commands, and programs that can be run from within Bash, to display more information on how to use these commands or programs.\n",
    "* `man` command displays the manual page for a given command.\n",
    "* `$(command)` inserts a command’s output in place.\n"
   ]
  },
  {
   "cell_type": "markdown",
   "metadata": {
    "collapsed": true,
    "slideshow": {
     "slide_type": "slide"
    }
   },
   "source": [
    "### Additional resources\n",
    "\n",
    "| resource | description |\n",
    "| :------- | :---------- |\n",
    "| https://explainshell.com | dissects any shell command you type in |\n",
    "| https://tldr.sh | simplified and community-driven Shell manual pages |\n",
    "| https://www.shellcheck.net | checks shell scripts for common errors |\n"
   ]
  }
 ],
 "metadata": {
  "celltoolbar": "Slideshow",
  "kernelspec": {
   "display_name": "Python 3",
   "language": "python",
   "name": "python3"
  },
  "language_info": {
   "codemirror_mode": {
    "name": "ipython",
    "version": 3
   },
   "file_extension": ".py",
   "mimetype": "text/x-python",
   "name": "python",
   "nbconvert_exporter": "python",
   "pygments_lexer": "ipython3",
   "version": "3.5.2"
  }
 },
 "nbformat": 4,
 "nbformat_minor": 2
}
